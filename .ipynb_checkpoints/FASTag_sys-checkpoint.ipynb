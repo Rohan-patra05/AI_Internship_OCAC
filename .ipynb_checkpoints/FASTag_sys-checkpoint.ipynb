{
 "cells": [
  {
   "cell_type": "markdown",
   "id": "fe5be06a-9a76-4e7b-a594-713416e48787",
   "metadata": {},
   "source": [
    "## FASTag System"
   ]
  },
  {
   "cell_type": "markdown",
   "id": "4925c6f8-f438-4fc3-85c9-5b6988beae84",
   "metadata": {},
   "source": [
    "### First make a database with FASTag id, vehicle number, user name ,balance. WAP using python for FASTag system with user input as FASTag id, distance travelled. Then calculate price as per distance travelled(₹50 for every 100 kilometers traveled), deduct price from that id then display the FASTag id, vehicle number, user name, balance ,distance travelled and the amount deducted of that vehicle."
   ]
  },
  {
   "cell_type": "code",
   "execution_count": 4,
   "id": "e041ae4c-4354-4c73-8f78-368f1921d7f8",
   "metadata": {},
   "outputs": [
    {
     "name": "stdin",
     "output_type": "stream",
     "text": [
      "Enter FASTag ID:  FT001\n",
      "Enter distance traveled (in km):  1000\n"
     ]
    },
    {
     "name": "stdout",
     "output_type": "stream",
     "text": [
      "\n",
      "FASTag Transaction Summary\n",
      "FASTag ID         : FT001\n",
      "Vehicle Number    : OD02AB1234\n",
      "User Name         : Rohan Patra\n",
      "Distance Travelled: 1000.0 km\n",
      "Amount Deducted   : ₹500.00\n",
      "Remaining Balance : ₹9500.00\n"
     ]
    }
   ],
   "source": [
    "# Sample FASTag database\n",
    "fastag_db = {\n",
    "    \"FT001\": {\"vehicle_number\": \"OD02AB1234\", \"user_name\": \"Rohan Patra\", \"balance\": 10000},\n",
    "    \"FT002\": {\"vehicle_number\": \"OD33CD5678\", \"user_name\": \"Anjali Mehta\", \"balance\": 500},\n",
    "    \"FT003\": {\"vehicle_number\": \"OD44EF9101\", \"user_name\": \"Amit Kumar\", \"balance\": 1500},\n",
    "}\n",
    "\n",
    "def calculate_price(distance):\n",
    "    # ₹50 per 100 km, so price = distance/100 * 50\n",
    "    return (distance / 100) * 50\n",
    "\n",
    "def process_fastag(fastag_id, distance):\n",
    "    if fastag_id not in fastag_db:\n",
    "        print(\"FASTag ID not found.\")\n",
    "        return\n",
    "    \n",
    "    price = calculate_price(distance)\n",
    "    user = fastag_db[fastag_id]\n",
    "\n",
    "    if user[\"balance\"] < price:\n",
    "        print(f\"Insufficient balance for {user['user_name']} (Available: ₹{user['balance']:.2f}, Needed: ₹{price:.2f})\")\n",
    "        return\n",
    "\n",
    "    # Deduct balance\n",
    "    user[\"balance\"] -= price\n",
    "\n",
    "    # Display info\n",
    "    print(\"\\nFASTag Transaction Summary\")\n",
    "    print(f\"FASTag ID         : {fastag_id}\")\n",
    "    print(f\"Vehicle Number    : {user['vehicle_number']}\")\n",
    "    print(f\"User Name         : {user['user_name']}\")\n",
    "    print(f\"Distance Travelled: {distance} km\")\n",
    "    print(f\"Amount Deducted   : ₹{price:.2f}\")\n",
    "    print(f\"Remaining Balance : ₹{user['balance']:.2f}\")\n",
    "\n",
    "# User input\n",
    "fastag_id = input(\"Enter FASTag ID: \")\n",
    "try:\n",
    "    distance = float(input(\"Enter distance traveled (in km): \"))\n",
    "    if distance <= 0:\n",
    "        print(\"Distance should be a positive number.\")\n",
    "    else:\n",
    "        process_fastag(fastag_id, distance)\n",
    "except ValueError:\n",
    "    print(\"Invalid input for distance. Please enter a number.\")\n"
   ]
  },
  {
   "cell_type": "code",
   "execution_count": null,
   "id": "3c2b0564-de0c-4fd6-ac19-343af8e238e4",
   "metadata": {},
   "outputs": [],
   "source": []
  }
 ],
 "metadata": {
  "kernelspec": {
   "display_name": "Python 3 (ipykernel)",
   "language": "python",
   "name": "python3"
  },
  "language_info": {
   "codemirror_mode": {
    "name": "ipython",
    "version": 3
   },
   "file_extension": ".py",
   "mimetype": "text/x-python",
   "name": "python",
   "nbconvert_exporter": "python",
   "pygments_lexer": "ipython3",
   "version": "3.13.5"
  }
 },
 "nbformat": 4,
 "nbformat_minor": 5
}
