{
 "cells": [
  {
   "cell_type": "markdown",
   "id": "cf759c9f",
   "metadata": {},
   "source": [
    "# 📘 Assignment Demo in Jupyter Notebook\n",
    "This notebook demonstrates how to handle a CSV file, display an image, open a YouTube link, download and play YouTube Video in VLC Media Player."
   ]
  },
  {
   "cell_type": "markdown",
   "id": "df3b8794",
   "metadata": {},
   "source": [
    "## ✅ 1. Load and Manipulate CSV Data"
   ]
  },
  {
   "cell_type": "code",
   "execution_count": 19,
   "id": "1ff4b031",
   "metadata": {},
   "outputs": [
    {
     "data": {
      "text/html": [
       "<div>\n",
       "<style scoped>\n",
       "    .dataframe tbody tr th:only-of-type {\n",
       "        vertical-align: middle;\n",
       "    }\n",
       "\n",
       "    .dataframe tbody tr th {\n",
       "        vertical-align: top;\n",
       "    }\n",
       "\n",
       "    .dataframe thead th {\n",
       "        text-align: right;\n",
       "    }\n",
       "</style>\n",
       "<table border=\"1\" class=\"dataframe\">\n",
       "  <thead>\n",
       "    <tr style=\"text-align: right;\">\n",
       "      <th></th>\n",
       "      <th>Name</th>\n",
       "      <th>Age</th>\n",
       "      <th>Gender</th>\n",
       "      <th>Salary</th>\n",
       "    </tr>\n",
       "  </thead>\n",
       "  <tbody>\n",
       "    <tr>\n",
       "      <th>0</th>\n",
       "      <td>Rohan</td>\n",
       "      <td>20</td>\n",
       "      <td>M</td>\n",
       "      <td>100000</td>\n",
       "    </tr>\n",
       "    <tr>\n",
       "      <th>1</th>\n",
       "      <td>Binayak</td>\n",
       "      <td>30</td>\n",
       "      <td>M</td>\n",
       "      <td>60000</td>\n",
       "    </tr>\n",
       "    <tr>\n",
       "      <th>2</th>\n",
       "      <td>Chaplin</td>\n",
       "      <td>35</td>\n",
       "      <td>M</td>\n",
       "      <td>55000</td>\n",
       "    </tr>\n",
       "    <tr>\n",
       "      <th>3</th>\n",
       "      <td>Dash</td>\n",
       "      <td>40</td>\n",
       "      <td>M</td>\n",
       "      <td>70000</td>\n",
       "    </tr>\n",
       "    <tr>\n",
       "      <th>4</th>\n",
       "      <td>Erikson</td>\n",
       "      <td>22</td>\n",
       "      <td>M</td>\n",
       "      <td>48000</td>\n",
       "    </tr>\n",
       "    <tr>\n",
       "      <th>5</th>\n",
       "      <td>Frank</td>\n",
       "      <td>33</td>\n",
       "      <td>M</td>\n",
       "      <td>62000</td>\n",
       "    </tr>\n",
       "    <tr>\n",
       "      <th>6</th>\n",
       "      <td>Ginny</td>\n",
       "      <td>28</td>\n",
       "      <td>F</td>\n",
       "      <td>100000</td>\n",
       "    </tr>\n",
       "    <tr>\n",
       "      <th>7</th>\n",
       "      <td>Hamilton</td>\n",
       "      <td>36</td>\n",
       "      <td>M</td>\n",
       "      <td>68000</td>\n",
       "    </tr>\n",
       "    <tr>\n",
       "      <th>8</th>\n",
       "      <td>Lando</td>\n",
       "      <td>29</td>\n",
       "      <td>M</td>\n",
       "      <td>58000</td>\n",
       "    </tr>\n",
       "    <tr>\n",
       "      <th>9</th>\n",
       "      <td>Josh</td>\n",
       "      <td>41</td>\n",
       "      <td>M</td>\n",
       "      <td>72000</td>\n",
       "    </tr>\n",
       "  </tbody>\n",
       "</table>\n",
       "</div>"
      ],
      "text/plain": [
       "       Name  Age Gender  Salary\n",
       "0     Rohan   20      M  100000\n",
       "1   Binayak   30      M   60000\n",
       "2   Chaplin   35      M   55000\n",
       "3      Dash   40      M   70000\n",
       "4   Erikson   22      M   48000\n",
       "5     Frank   33      M   62000\n",
       "6     Ginny   28      F  100000\n",
       "7  Hamilton   36      M   68000\n",
       "8     Lando   29      M   58000\n",
       "9      Josh   41      M   72000"
      ]
     },
     "execution_count": 19,
     "metadata": {},
     "output_type": "execute_result"
    }
   ],
   "source": [
    "import pandas as pd\n",
    "\n",
    "# Load the CSV file\n",
    "df = pd.read_csv(\"sample_data.csv\")\n",
    "df.head(10)\n",
    "\n",
    "\n",
    "# Show 10 rows and 10 columns\n",
    "# df.iloc[:10, :10]"
   ]
  },
  {
   "cell_type": "code",
   "execution_count": 20,
   "id": "c955c3e0-602e-42d1-bf9b-d6a4207f3611",
   "metadata": {},
   "outputs": [
    {
     "data": {
      "text/html": [
       "<div>\n",
       "<style scoped>\n",
       "    .dataframe tbody tr th:only-of-type {\n",
       "        vertical-align: middle;\n",
       "    }\n",
       "\n",
       "    .dataframe tbody tr th {\n",
       "        vertical-align: top;\n",
       "    }\n",
       "\n",
       "    .dataframe thead th {\n",
       "        text-align: right;\n",
       "    }\n",
       "</style>\n",
       "<table border=\"1\" class=\"dataframe\">\n",
       "  <thead>\n",
       "    <tr style=\"text-align: right;\">\n",
       "      <th></th>\n",
       "      <th>Name</th>\n",
       "      <th>Age</th>\n",
       "      <th>Gender</th>\n",
       "      <th>Salary</th>\n",
       "      <th>Department</th>\n",
       "    </tr>\n",
       "  </thead>\n",
       "  <tbody>\n",
       "    <tr>\n",
       "      <th>0</th>\n",
       "      <td>Rohan</td>\n",
       "      <td>20</td>\n",
       "      <td>M</td>\n",
       "      <td>100000</td>\n",
       "      <td>Sales</td>\n",
       "    </tr>\n",
       "    <tr>\n",
       "      <th>1</th>\n",
       "      <td>Binayak</td>\n",
       "      <td>30</td>\n",
       "      <td>M</td>\n",
       "      <td>60000</td>\n",
       "      <td>HR</td>\n",
       "    </tr>\n",
       "    <tr>\n",
       "      <th>2</th>\n",
       "      <td>Chaplin</td>\n",
       "      <td>35</td>\n",
       "      <td>M</td>\n",
       "      <td>55000</td>\n",
       "      <td>IT</td>\n",
       "    </tr>\n",
       "    <tr>\n",
       "      <th>3</th>\n",
       "      <td>Dash</td>\n",
       "      <td>40</td>\n",
       "      <td>M</td>\n",
       "      <td>70000</td>\n",
       "      <td>Finance</td>\n",
       "    </tr>\n",
       "    <tr>\n",
       "      <th>4</th>\n",
       "      <td>Erikson</td>\n",
       "      <td>22</td>\n",
       "      <td>M</td>\n",
       "      <td>48000</td>\n",
       "      <td>Sales</td>\n",
       "    </tr>\n",
       "    <tr>\n",
       "      <th>5</th>\n",
       "      <td>Frank</td>\n",
       "      <td>33</td>\n",
       "      <td>M</td>\n",
       "      <td>62000</td>\n",
       "      <td>IT</td>\n",
       "    </tr>\n",
       "    <tr>\n",
       "      <th>6</th>\n",
       "      <td>Ginny</td>\n",
       "      <td>28</td>\n",
       "      <td>F</td>\n",
       "      <td>100000</td>\n",
       "      <td>HR</td>\n",
       "    </tr>\n",
       "    <tr>\n",
       "      <th>7</th>\n",
       "      <td>Hamilton</td>\n",
       "      <td>36</td>\n",
       "      <td>M</td>\n",
       "      <td>68000</td>\n",
       "      <td>Sales</td>\n",
       "    </tr>\n",
       "    <tr>\n",
       "      <th>8</th>\n",
       "      <td>Lando</td>\n",
       "      <td>29</td>\n",
       "      <td>M</td>\n",
       "      <td>58000</td>\n",
       "      <td>Marketing</td>\n",
       "    </tr>\n",
       "    <tr>\n",
       "      <th>9</th>\n",
       "      <td>Josh</td>\n",
       "      <td>41</td>\n",
       "      <td>M</td>\n",
       "      <td>72000</td>\n",
       "      <td>Admin</td>\n",
       "    </tr>\n",
       "  </tbody>\n",
       "</table>\n",
       "</div>"
      ],
      "text/plain": [
       "       Name  Age Gender  Salary Department\n",
       "0     Rohan   20      M  100000      Sales\n",
       "1   Binayak   30      M   60000         HR\n",
       "2   Chaplin   35      M   55000         IT\n",
       "3      Dash   40      M   70000    Finance\n",
       "4   Erikson   22      M   48000      Sales\n",
       "5     Frank   33      M   62000         IT\n",
       "6     Ginny   28      F  100000         HR\n",
       "7  Hamilton   36      M   68000      Sales\n",
       "8     Lando   29      M   58000  Marketing\n",
       "9      Josh   41      M   72000      Admin"
      ]
     },
     "execution_count": 20,
     "metadata": {},
     "output_type": "execute_result"
    }
   ],
   "source": [
    "# Add new column\n",
    "df[\"Department\"] = [\"Sales\", \"HR\", \"IT\", \"Finance\", \"Sales\", \"IT\", \"HR\", \"Sales\", \"Marketing\", \"Admin\"]\n",
    "\n",
    "# Add new row\n",
    "df.loc[10] = [\"John\", 27, \"M\", 56000, \"IT\"]\n",
    "\n",
    "# Show updated DataFrame\n",
    "#df.tail()\n",
    "df.head(10)\n"
   ]
  },
  {
   "cell_type": "code",
   "execution_count": 6,
   "id": "4ec63e07",
   "metadata": {},
   "outputs": [
    {
     "data": {
      "text/plain": [
       "Index(['Name', 'Age', 'Gender', 'Salary'], dtype='object')"
      ]
     },
     "execution_count": 6,
     "metadata": {},
     "output_type": "execute_result"
    }
   ],
   "source": [
    "# Show columns\n",
    "df.columns"
   ]
  },
  {
   "cell_type": "code",
   "execution_count": 7,
   "id": "90ce9539",
   "metadata": {},
   "outputs": [
    {
     "data": {
      "text/plain": [
       "Name      object\n",
       "Age        int64\n",
       "Gender    object\n",
       "Salary     int64\n",
       "dtype: object"
      ]
     },
     "execution_count": 7,
     "metadata": {},
     "output_type": "execute_result"
    }
   ],
   "source": [
    "# Show data types\n",
    "df.dtypes"
   ]
  },
  {
   "cell_type": "code",
   "execution_count": 8,
   "id": "eed86687",
   "metadata": {},
   "outputs": [
    {
     "data": {
      "text/plain": [
       "(10, 4)"
      ]
     },
     "execution_count": 8,
     "metadata": {},
     "output_type": "execute_result"
    }
   ],
   "source": [
    "# Show shape\n",
    "df.shape"
   ]
  },
  {
   "cell_type": "code",
   "execution_count": 9,
   "id": "0f5a02a7",
   "metadata": {},
   "outputs": [
    {
     "data": {
      "text/plain": [
       "40"
      ]
     },
     "execution_count": 9,
     "metadata": {},
     "output_type": "execute_result"
    }
   ],
   "source": [
    "# Show size\n",
    "df.size"
   ]
  },
  {
   "cell_type": "code",
   "execution_count": 10,
   "id": "240e7e93",
   "metadata": {},
   "outputs": [
    {
     "data": {
      "text/html": [
       "<div>\n",
       "<style scoped>\n",
       "    .dataframe tbody tr th:only-of-type {\n",
       "        vertical-align: middle;\n",
       "    }\n",
       "\n",
       "    .dataframe tbody tr th {\n",
       "        vertical-align: top;\n",
       "    }\n",
       "\n",
       "    .dataframe thead th {\n",
       "        text-align: right;\n",
       "    }\n",
       "</style>\n",
       "<table border=\"1\" class=\"dataframe\">\n",
       "  <thead>\n",
       "    <tr style=\"text-align: right;\">\n",
       "      <th></th>\n",
       "      <th>Age</th>\n",
       "      <th>Salary</th>\n",
       "    </tr>\n",
       "  </thead>\n",
       "  <tbody>\n",
       "    <tr>\n",
       "      <th>count</th>\n",
       "      <td>10.000000</td>\n",
       "      <td>10.000000</td>\n",
       "    </tr>\n",
       "    <tr>\n",
       "      <th>mean</th>\n",
       "      <td>31.400000</td>\n",
       "      <td>69300.000000</td>\n",
       "    </tr>\n",
       "    <tr>\n",
       "      <th>std</th>\n",
       "      <td>6.995236</td>\n",
       "      <td>17701.537912</td>\n",
       "    </tr>\n",
       "    <tr>\n",
       "      <th>min</th>\n",
       "      <td>20.000000</td>\n",
       "      <td>48000.000000</td>\n",
       "    </tr>\n",
       "    <tr>\n",
       "      <th>25%</th>\n",
       "      <td>28.250000</td>\n",
       "      <td>58500.000000</td>\n",
       "    </tr>\n",
       "    <tr>\n",
       "      <th>50%</th>\n",
       "      <td>31.500000</td>\n",
       "      <td>65000.000000</td>\n",
       "    </tr>\n",
       "    <tr>\n",
       "      <th>75%</th>\n",
       "      <td>35.750000</td>\n",
       "      <td>71500.000000</td>\n",
       "    </tr>\n",
       "    <tr>\n",
       "      <th>max</th>\n",
       "      <td>41.000000</td>\n",
       "      <td>100000.000000</td>\n",
       "    </tr>\n",
       "  </tbody>\n",
       "</table>\n",
       "</div>"
      ],
      "text/plain": [
       "             Age         Salary\n",
       "count  10.000000      10.000000\n",
       "mean   31.400000   69300.000000\n",
       "std     6.995236   17701.537912\n",
       "min    20.000000   48000.000000\n",
       "25%    28.250000   58500.000000\n",
       "50%    31.500000   65000.000000\n",
       "75%    35.750000   71500.000000\n",
       "max    41.000000  100000.000000"
      ]
     },
     "execution_count": 10,
     "metadata": {},
     "output_type": "execute_result"
    }
   ],
   "source": [
    "# Describe data\n",
    "df.describe()"
   ]
  },
  {
   "cell_type": "code",
   "execution_count": null,
   "id": "560ef667",
   "metadata": {},
   "outputs": [],
   "source": [
    "# Rename column 'Salary' to 'Monthly_Salary'\n",
    "df.rename(columns={'Salary': 'Monthly_Salary'}, inplace=True)"
   ]
  },
  {
   "cell_type": "code",
   "execution_count": null,
   "id": "1c92b071",
   "metadata": {},
   "outputs": [],
   "source": [
    "# Delete 'Gender' column\n",
    "df.drop('Gender', axis=1, inplace=True)"
   ]
  },
  {
   "cell_type": "code",
   "execution_count": null,
   "id": "66aaf8b4",
   "metadata": {},
   "outputs": [],
   "source": [
    "# Delete row at index 3\n",
    "df.drop(3, axis=0, inplace=True)"
   ]
  },
  {
   "cell_type": "code",
   "execution_count": null,
   "id": "d2ccc160",
   "metadata": {},
   "outputs": [],
   "source": [
    "# Check for null values\n",
    "df.isnull()"
   ]
  },
  {
   "cell_type": "code",
   "execution_count": null,
   "id": "51f81f4a",
   "metadata": {},
   "outputs": [],
   "source": [
    "# Count null values\n",
    "df.isnull().sum()"
   ]
  },
  {
   "cell_type": "markdown",
   "id": "5fe6e13b",
   "metadata": {},
   "source": [
    "## ✅ 2. Display an Image"
   ]
  },
  {
   "cell_type": "code",
   "execution_count": 2,
   "id": "406916e2",
   "metadata": {},
   "outputs": [
    {
     "data": {
      "text/html": [
       "<img src=\"https://i0.wp.com/cookwithnoorain.com/wp-content/uploads/2024/06/IMG_2487-scaled.jpg?w=1920&ssl=1\" width=\"300\"/>"
      ],
      "text/plain": [
       "<IPython.core.display.Image object>"
      ]
     },
     "metadata": {},
     "output_type": "display_data"
    }
   ],
   "source": [
    "from IPython.display import Image, display\n",
    "\n",
    "# Display image from web URL\n",
    "# display(Image(url=\"https://upload.wikimedia.org/wikipedia/commons/thumb/a/a7/React-icon.svg/2048px-React-icon.svg.png\", width=300))\n",
    "display(Image(url=\"https://i0.wp.com/cookwithnoorain.com/wp-content/uploads/2024/06/IMG_2487-scaled.jpg?w=1920&ssl=1\", width=300))"
   ]
  },
  {
   "cell_type": "code",
   "execution_count": 21,
   "id": "237e5263-03a8-49b4-85bc-4ab9b3470931",
   "metadata": {},
   "outputs": [
    {
     "data": {
      "image/png": "[encoded data removed]",
      "text/plain": [
       "<Figure size 640x480 with 1 Axes>"
      ]
     },
     "metadata": {},
     "output_type": "display_data"
    }
   ],
   "source": [
    "import matplotlib.pyplot as plt\n",
    "import matplotlib.image as mpimg\n",
    "\n",
    "# Load image\n",
    "img = mpimg.imread('world famous art.png')  # Image file must be in the same directory\n",
    "\n",
    "# Display image\n",
    "plt.imshow(img)\n",
    "plt.axis('off')  # Optional: hides axes\n",
    "plt.title(\"Image Displayed Using Matplotlib\")\n",
    "plt.show()"
   ]
  },
  {
   "cell_type": "markdown",
   "id": "c6cd71b3",
   "metadata": {},
   "source": [
    "## ✅ 3. Open YouTube Link from User Input"
   ]
  },
  {
   "cell_type": "code",
   "execution_count": 22,
   "id": "0b9f1f8b",
   "metadata": {},
   "outputs": [
    {
     "name": "stdin",
     "output_type": "stream",
     "text": [
      "Enter a YouTube video URL:  https://www.youtube.com/watch?v=dQw4w9WgXcQ\n"
     ]
    },
    {
     "data": {
      "text/plain": [
       "True"
      ]
     },
     "execution_count": 22,
     "metadata": {},
     "output_type": "execute_result"
    }
   ],
   "source": [
    "import webbrowser\n",
    "\n",
    "link = input(\"Enter a YouTube video URL: \")\n",
    "webbrowser.open(link)"
   ]
  },
  {
   "cell_type": "markdown",
   "id": "6210fb42",
   "metadata": {},
   "source": [
    "## ✅ 4. Download and Play YouTube Video in VLC Media Player"
   ]
  },
  {
   "cell_type": "code",
   "execution_count": 6,
   "id": "27be1f53-de4f-40e4-b1de-1e96b54a929a",
   "metadata": {},
   "outputs": [
    {
     "name": "stdout",
     "output_type": "stream",
     "text": [
      "Requirement already satisfied: pytube in c:\\users\\asus\\anaconda3\\lib\\site-packages (15.0.0)\n"
     ]
    }
   ],
   "source": [
    "!pip install pytube"
   ]
  },
  {
   "cell_type": "code",
   "execution_count": 6,
   "id": "d534b202-c41a-474e-997e-ac1f12334df6",
   "metadata": {},
   "outputs": [
    {
     "name": "stdout",
     "output_type": "stream",
     "text": [
      "Collecting yt-dlp\n",
      "  Downloading yt_dlp-2025.7.21-py3-none-any.whl.metadata (175 kB)\n",
      "Downloading yt_dlp-2025.7.21-py3-none-any.whl (3.3 MB)\n",
      "   ---------------------------------------- 0.0/3.3 MB ? eta -:--:--\n",
      "   --- ------------------------------------ 0.3/3.3 MB ? eta -:--:--\n",
      "   ------ --------------------------------- 0.5/3.3 MB 1.4 MB/s eta 0:00:03\n",
      "   ------------ --------------------------- 1.0/3.3 MB 2.1 MB/s eta 0:00:02\n",
      "   ---------------------- ----------------- 1.8/3.3 MB 3.3 MB/s eta 0:00:01\n",
      "   -------------------------------------- - 3.1/3.3 MB 3.4 MB/s eta 0:00:01\n",
      "   ---------------------------------------- 3.3/3.3 MB 3.3 MB/s eta 0:00:00\n",
      "Installing collected packages: yt-dlp\n",
      "Successfully installed yt-dlp-2025.7.21\n",
      "Note: you may need to restart the kernel to use updated packages.\n"
     ]
    }
   ],
   "source": [
    "pip install yt-dlp --trusted-host files.pythonhosted.org --trusted-host pypi.org"
   ]
  },
  {
   "cell_type": "code",
   "execution_count": 8,
   "id": "fdf8fc00-b947-4bb1-88ac-f00fbcd73a3c",
   "metadata": {},
   "outputs": [
    {
     "name": "stdin",
     "output_type": "stream",
     "text": [
      "Enter YouTube video URL:  https://www.youtube.com/watch?v=sUf2PtEZris\n"
     ]
    },
    {
     "name": "stdout",
     "output_type": "stream",
     "text": [
      "[youtube] Extracting URL: https://www.youtube.com/watch?v=sUf2PtEZris\n",
      "[youtube] sUf2PtEZris: Downloading webpage\n",
      "[youtube] sUf2PtEZris: Downloading tv client config\n",
      "[youtube] sUf2PtEZris: Downloading tv player API JSON\n",
      "[youtube] sUf2PtEZris: Downloading ios player API JSON\n",
      "[youtube] sUf2PtEZris: Downloading m3u8 information\n",
      "[info] sUf2PtEZris: Downloading 1 format(s): 401+251\n",
      "[download] videos\\Shaky ( Official #Video ) Sanju Rathod Ft. Isha Malviya ｜ G-Spark ｜ New #Marathi Songs 2025.webm has already been downloaded\n",
      "✅ Downloaded: videos\\Shaky ( Official #Video ) Sanju Rathod Ft. Isha Malviya ｜ G-Spark ｜ New #Marathi Songs 2025.webm\n"
     ]
    },
    {
     "data": {
      "text/plain": [
       "<Popen: returncode: None args: ['C:\\\\Program Files (x86)\\\\VideoLAN\\\\VLC\\\\vlc...>"
      ]
     },
     "execution_count": 8,
     "metadata": {},
     "output_type": "execute_result"
    }
   ],
   "source": [
    "import yt_dlp\n",
    "import subprocess\n",
    "\n",
    "# Step 1: Get YouTube URL\n",
    "url = input(\"Enter YouTube video URL: \")\n",
    "\n",
    "# Step 2: Set download options\n",
    "output_path = \"videos/%(title)s.%(ext)s\"\n",
    "ydl_opts = {\n",
    "    'format': 'bestvideo+bestaudio/best',\n",
    "    'outtmpl': output_path\n",
    "}\n",
    "\n",
    "# Step 3: Download video\n",
    "with yt_dlp.YoutubeDL(ydl_opts) as ydl:\n",
    "    info_dict = ydl.extract_info(url, download=True)\n",
    "    video_file = ydl.prepare_filename(info_dict)\n",
    "\n",
    "print(\"✅ Downloaded:\", video_file)\n",
    "\n",
    "# Step 4: Play in VLC\n",
    "vlc_path = r\"C:\\Program Files (x86)\\VideoLAN\\VLC\\vlc.exe\"\n",
    "subprocess.Popen([vlc_path, video_file])\n"
   ]
  },
  {
   "cell_type": "code",
   "execution_count": null,
   "id": "1377805d-2708-43b0-b5a4-db73251e3921",
   "metadata": {},
   "outputs": [],
   "source": []
  }
 ],
 "metadata": {
  "kernelspec": {
   "display_name": "Python 3 (ipykernel)",
   "language": "python",
   "name": "python3"
  },
  "language_info": {
   "codemirror_mode": {
    "name": "ipython",
    "version": 3
   },
   "file_extension": ".py",
   "mimetype": "text/x-python",
   "name": "python",
   "nbconvert_exporter": "python",
   "pygments_lexer": "ipython3",
   "version": "3.13.5"
  }
 },
 "nbformat": 4,
 "nbformat_minor": 5
}
