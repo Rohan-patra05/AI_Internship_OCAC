{
 "cells": [
  {
   "cell_type": "markdown",
   "id": "f4eb847b",
   "metadata": {},
   "source": [
    "# Diabetes Regression Workflow\n",
    "\n",
    "This notebook loads the diabetes dataset, creates train/test splits, trains Linear, Ridge, and Lasso (with small grid search for regularization), and reports metrics with a comparison chart."
   ]
  },
  {
   "cell_type": "code",
   "execution_count": 1,
   "id": "36a97042",
   "metadata": {},
   "outputs": [
    {
     "name": "stdout",
     "output_type": "stream",
     "text": [
      "Loading diabetes dataset\n",
      "Creating train test split with test_size 0.2 and random_state 42\n",
      "Head of training features:\n",
      "          age       sex       bmi        bp        s1        s2        s3  \\\n",
      "17   0.070769  0.050680  0.012117  0.056301  0.034206  0.049416 -0.039719   \n",
      "66  -0.009147  0.050680 -0.018062 -0.033213 -0.020832  0.012152 -0.072854   \n",
      "137  0.005383 -0.044642  0.049840  0.097615 -0.015328 -0.016345 -0.006584   \n",
      "245 -0.027310 -0.044642 -0.035307 -0.029770 -0.056607 -0.058620  0.030232   \n",
      "31  -0.023677 -0.044642 -0.065486 -0.081413 -0.038720 -0.053610  0.059685   \n",
      "\n",
      "           s4        s5        s6  \n",
      "17   0.034309  0.027364 -0.001078  \n",
      "66   0.071210  0.000272  0.019633  \n",
      "137 -0.002592  0.017036 -0.013504  \n",
      "245 -0.039493 -0.049872 -0.129483  \n",
      "31  -0.076395 -0.037129 -0.042499  \n",
      "Head of training target:\n",
      "17     144.0\n",
      "66     150.0\n",
      "137    280.0\n",
      "245    125.0\n",
      "31      59.0\n",
      "Name: target, dtype: float64\n"
     ]
    }
   ],
   "source": [
    "\n",
    "# Imports and data loading\n",
    "import numpy as np\n",
    "import pandas as pd\n",
    "import matplotlib.pyplot as plt\n",
    "import seaborn as sns\n",
    "from sklearn.datasets import load_diabetes\n",
    "from sklearn.model_selection import train_test_split, GridSearchCV\n",
    "from sklearn.linear_model import LinearRegression, Ridge, Lasso\n",
    "from sklearn.preprocessing import StandardScaler\n",
    "from sklearn.pipeline import Pipeline\n",
    "from sklearn.metrics import mean_absolute_error, mean_squared_error, r2_score\n",
    "import joblib\n",
    "\n",
    "print('Loading diabetes dataset')\n",
    "X, y = load_diabetes(return_X_y=True, as_frame=True)\n",
    "\n",
    "print('Creating train test split with test_size 0.2 and random_state 42')\n",
    "X_train, X_test, y_train, y_test = train_test_split(X, y, test_size=0.2, random_state=42)\n",
    "\n",
    "print('Head of training features:')\n",
    "print(X_train.head())\n",
    "print('Head of training target:')\n",
    "print(y_train.head())\n"
   ]
  },
  {
   "cell_type": "code",
   "execution_count": 2,
   "id": "190ff304",
   "metadata": {},
   "outputs": [
    {
     "name": "stdout",
     "output_type": "stream",
     "text": [
      "Training variables present: True True True True\n",
      "Fitting Linear Regression\n",
      "Fitting Ridge\n",
      "Best params for Ridge: {'model__alpha': 10.0}\n",
      "Fitting Lasso\n",
      "Best params for Lasso: {'model__alpha': 1.0}\n",
      "Results:\n",
      "               model  train_mae  train_rmse  train_r2   test_mae  test_rmse  \\\n",
      "2              Lasso  43.839146   53.862938  0.522543  42.802984  53.146666   \n",
      "1              Ridge  43.638491   53.735609  0.524798  42.856825  53.626288   \n",
      "0  Linear Regression  43.483504   53.558843  0.527919  42.794095  53.853446   \n",
      "\n",
      "    test_r2  \n",
      "2  0.466877  \n",
      "1  0.457211  \n",
      "0  0.452603  \n"
     ]
    },
    {
     "name": "stderr",
     "output_type": "stream",
     "text": [
      "C:\\Users\\ASUS\\AppData\\Local\\Temp\\ipykernel_8528\\3734966242.py:58: FutureWarning: \n",
      "\n",
      "Passing `palette` without assigning `hue` is deprecated and will be removed in v0.14.0. Assign the `x` variable to `hue` and set `legend=False` for the same effect.\n",
      "\n",
      "  sns.barplot(data=results_df, x='model', y='test_r2', palette='viridis')\n"
     ]
    },
    {
     "data": {
      "image/png": "[encoded data removed]",
      "text/plain": [
       "<Figure size 600x400 with 1 Axes>"
      ]
     },
     "metadata": {},
     "output_type": "display_data"
    },
    {
     "name": "stdout",
     "output_type": "stream",
     "text": [
      "Saved model to best_model_linear_regression.joblib\n",
      "Saved model to best_model_ridge.joblib\n",
      "Saved model to best_model_lasso.joblib\n"
     ]
    }
   ],
   "source": [
    "\n",
    "# Train models and evaluate\n",
    "print('Training variables present:', 'X_train' in globals(), 'X_test' in globals(), 'y_train' in globals(), 'y_test' in globals())\n",
    "\n",
    "pipelines = {\n",
    "    'Linear Regression': Pipeline([('scaler', StandardScaler()), ('model', LinearRegression())]),\n",
    "    'Ridge': Pipeline([('scaler', StandardScaler()), ('model', Ridge())]),\n",
    "    'Lasso': Pipeline([('scaler', StandardScaler()), ('model', Lasso(max_iter=10000))])\n",
    "}\n",
    "\n",
    "param_grids = {\n",
    "    'Linear Regression': {},\n",
    "    'Ridge': {'model__alpha': [0.01, 0.1, 1.0, 10.0, 100.0]},\n",
    "    'Lasso': {'model__alpha': [0.01, 0.1, 1.0, 10.0, 100.0]}\n",
    "}\n",
    "\n",
    "results_records = []\n",
    "best_models = {}\n",
    "\n",
    "for name, pipe in pipelines.items():\n",
    "    print('Fitting ' + name)\n",
    "    if len(param_grids[name]) > 0:\n",
    "        gs = GridSearchCV(pipe, param_grids[name], cv=5, scoring='neg_mean_squared_error', n_jobs=-1)\n",
    "        gs.fit(X_train, y_train)\n",
    "        best_pipe = gs.best_estimator_\n",
    "        print('Best params for ' + name + ': ' + str(gs.best_params_))\n",
    "    else:\n",
    "        best_pipe = pipe\n",
    "        best_pipe.fit(X_train, y_train)\n",
    "\n",
    "    y_tr_pred = best_pipe.predict(X_train)\n",
    "    y_te_pred = best_pipe.predict(X_test)\n",
    "\n",
    "    tr_mae = mean_absolute_error(y_train, y_tr_pred)\n",
    "    tr_rmse = np.sqrt(mean_squared_error(y_train, y_tr_pred))\n",
    "    tr_r2 = r2_score(y_train, y_tr_pred)\n",
    "\n",
    "    te_mae = mean_absolute_error(y_test, y_te_pred)\n",
    "    te_rmse = np.sqrt(mean_squared_error(y_test, y_te_pred))\n",
    "    te_r2 = r2_score(y_test, y_te_pred)\n",
    "\n",
    "    results_records.append({\n",
    "        'model': name,\n",
    "        'train_mae': tr_mae,\n",
    "        'train_rmse': tr_rmse,\n",
    "        'train_r2': tr_r2,\n",
    "        'test_mae': te_mae,\n",
    "        'test_rmse': te_rmse,\n",
    "        'test_r2': te_r2\n",
    "    })\n",
    "\n",
    "    best_models[name] = best_pipe\n",
    "\n",
    "results_df = pd.DataFrame(results_records).sort_values('test_r2', ascending=False)\n",
    "print('Results:')\n",
    "print(results_df)\n",
    "\n",
    "plt.figure(figsize=(6,4))\n",
    "sns.barplot(data=results_df, x='model', y='test_r2', palette='viridis')\n",
    "plt.title('Model Comparison: Test R2')\n",
    "plt.ylabel('Test R2')\n",
    "plt.xlabel('Model')\n",
    "plt.ylim(0, 1)\n",
    "plt.tight_layout()\n",
    "plt.show()\n",
    "\n",
    "for name, mdl in best_models.items():\n",
    "    fname = 'best_model_' + name.lower().replace(' ', '_') + '.joblib'\n",
    "    joblib.dump(mdl, fname)\n",
    "    print('Saved model to ' + fname)\n"
   ]
  }
 ],
 "metadata": {
  "kernelspec": {
   "display_name": "Python 3 (ipykernel)",
   "language": "python",
   "name": "python3"
  },
  "language_info": {
   "codemirror_mode": {
    "name": "ipython",
    "version": 3
   },
   "file_extension": ".py",
   "mimetype": "text/x-python",
   "name": "python",
   "nbconvert_exporter": "python",
   "pygments_lexer": "ipython3",
   "version": "3.13.5"
  }
 },
 "nbformat": 4,
 "nbformat_minor": 5
}
