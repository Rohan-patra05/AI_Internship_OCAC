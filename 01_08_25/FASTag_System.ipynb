{
 "cells": [
  {
   "cell_type": "markdown",
   "id": "437c8b08-ba4f-4c73-b9a7-132dd8d787c3",
   "metadata": {},
   "source": [
    "## FASTag System"
   ]
  },
  {
   "cell_type": "markdown",
   "id": "5f1e7122-4a19-4f50-abc2-69801ee62536",
   "metadata": {},
   "source": [
    "### First make a database with FASTag id, vehicle number, user name ,balance. WAP using python for FASTag system with user input as FASTag id, distance travelled. Then calculate price as per distance travelled(₹50 for every 100 kilometers traveled), deduct price from that id then display the FASTag id, vehicle number, user name, balance ,distance travelled and the amount deducted of that vehicle."
   ]
  },
  {
   "cell_type": "code",
   "execution_count": 3,
   "id": "a629f068-6c90-4052-8cd2-bd81b0205e0b",
   "metadata": {},
   "outputs": [
    {
     "name": "stdin",
     "output_type": "stream",
     "text": [
      "Enter FASTag ID:  FT001\n",
      "Enter distance traveled (in km):  500\n"
     ]
    },
    {
     "name": "stdout",
     "output_type": "stream",
     "text": [
      "\n",
      "FASTag Transaction Summary\n",
      "FASTag ID       : FT001\n",
      "Vehicle Number  : OD02AB1234\n",
      "User Name       : Rohan Patra\n",
      "Distance Travelled: 500.0 km\n",
      "Amount Deducted : ₹250.00\n",
      "Remaining Balance: ₹8750.00\n",
      "Database updated in Excel.\n"
     ]
    }
   ],
   "source": [
    "import pandas as pd\n",
    "\n",
    "# Load Excel file\n",
    "file_path = 'fastag_data.xlsx'\n",
    "df = pd.read_excel(file_path)\n",
    "\n",
    "def calculate_price(distance):\n",
    "    return (distance / 100) * 50\n",
    "\n",
    "def process_fastag(fastag_id, distance):\n",
    "    global df\n",
    "    # Check if FASTag ID exists\n",
    "    if fastag_id not in df['FASTag_ID'].values:\n",
    "        print(\"FASTag ID not found.\")\n",
    "        return\n",
    "\n",
    "    # Get index of the FASTag ID\n",
    "    index = df[df['FASTag_ID'] == fastag_id].index[0]\n",
    "    \n",
    "    user = df.loc[index]\n",
    "    price = calculate_price(distance)\n",
    "\n",
    "    if user['Balance'] < price:\n",
    "        print(f\"Insufficient balance for {user['User_Name']} (Available: ₹{user['Balance']:.2f}, Needed: ₹{price:.2f})\")\n",
    "        return\n",
    "\n",
    "    # Deduct amount from balance\n",
    "    df.at[index, 'Balance'] = user['Balance'] - price\n",
    "\n",
    "    # Show transaction\n",
    "    print(\"\\nFASTag Transaction Summary\")\n",
    "    print(f\"FASTag ID       : {user['FASTag_ID']}\")\n",
    "    print(f\"Vehicle Number  : {user['Vehicle_Number']}\")\n",
    "    print(f\"User Name       : {user['User_Name']}\")\n",
    "    print(f\"Distance Travelled: {distance} km\")\n",
    "    print(f\"Amount Deducted : ₹{price:.2f}\")\n",
    "    print(f\"Remaining Balance: ₹{df.at[index, 'Balance']:.2f}\")\n",
    "\n",
    "    # Save changes back to Excel\n",
    "    df.to_excel(file_path, index=False)\n",
    "    print(\"Database updated in Excel.\")\n",
    "\n",
    "# --- Main Program ---\n",
    "fastag_id = input(\"Enter FASTag ID: \").strip().upper()\n",
    "try:\n",
    "    distance = float(input(\"Enter distance traveled (in km): \"))\n",
    "    if distance <= 0:\n",
    "        print(\"Distance should be a positive number.\")\n",
    "    else:\n",
    "        process_fastag(fastag_id, distance)\n",
    "except ValueError:\n",
    "    print(\"Invalid input for distance. Please enter a number.\")\n"
   ]
  },
  {
   "cell_type": "code",
   "execution_count": null,
   "id": "8db4d186-d987-45e6-9c73-a57ddaab6e3f",
   "metadata": {},
   "outputs": [],
   "source": []
  }
 ],
 "metadata": {
  "kernelspec": {
   "display_name": "Python 3 (ipykernel)",
   "language": "python",
   "name": "python3"
  },
  "language_info": {
   "codemirror_mode": {
    "name": "ipython",
    "version": 3
   },
   "file_extension": ".py",
   "mimetype": "text/x-python",
   "name": "python",
   "nbconvert_exporter": "python",
   "pygments_lexer": "ipython3",
   "version": "3.13.5"
  }
 },
 "nbformat": 4,
 "nbformat_minor": 5
}
