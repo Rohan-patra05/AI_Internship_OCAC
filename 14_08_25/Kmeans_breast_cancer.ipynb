{
 "cells": [
  {
   "cell_type": "code",
   "execution_count": null,
   "id": "b7664312",
   "metadata": {},
   "outputs": [],
   "source": [
    "\n",
    "from sklearn.datasets import load_breast_cancer\n",
    "from sklearn.cluster import KMeans\n",
    "import pandas as pd\n",
    "\n",
    "# Load the breast cancer dataset\n",
    "cancer = load_breast_cancer(as_frame=True)\n",
    "print(cancer.keys())  # Show the keys\n"
   ]
  },
  {
   "cell_type": "code",
   "execution_count": null,
   "id": "7612e673",
   "metadata": {},
   "outputs": [],
   "source": [
    "\n",
    "# Convert to DataFrame\n",
    "df = cancer.frame.copy()\n"
   ]
  },
  {
   "cell_type": "code",
   "execution_count": null,
   "id": "2fcae728",
   "metadata": {},
   "outputs": [],
   "source": [
    "\n",
    "df.head()\n"
   ]
  },
  {
   "cell_type": "code",
   "execution_count": null,
   "id": "2f957cc1",
   "metadata": {},
   "outputs": [],
   "source": [
    "\n",
    "# Drop the target column\n",
    "df = df.drop(columns=['target'])\n",
    "\n",
    "from sklearn.preprocessing import StandardScaler\n",
    "# Scale the features for better K-Means performance\n",
    "scaler = StandardScaler()\n",
    "scaled_features = scaler.fit_transform(df)\n",
    "df.head()\n"
   ]
  },
  {
   "cell_type": "code",
   "execution_count": null,
   "id": "6b4e2da7",
   "metadata": {},
   "outputs": [],
   "source": [
    "\n",
    "print(scaled_features[:5])\n"
   ]
  },
  {
   "cell_type": "code",
   "execution_count": null,
   "id": "89794cbc",
   "metadata": {},
   "outputs": [],
   "source": [
    "\n",
    "# Apply K-Means with n=2 (malignant & benign)\n",
    "kmeans = KMeans(n_clusters=2, random_state=42, n_init=10)\n",
    "df['cluster'] = kmeans.fit_predict(scaled_features)\n",
    "df.head()\n"
   ]
  },
  {
   "cell_type": "code",
   "execution_count": null,
   "id": "dfa76129",
   "metadata": {},
   "outputs": [],
   "source": [
    "\n",
    "import matplotlib.pyplot as plt\n",
    "from sklearn.decomposition import PCA\n",
    "\n",
    "pca = PCA(2)\n",
    "proj = pca.fit_transform(scaled_features)\n",
    "\n",
    "plt.figure(figsize=(8, 6))\n",
    "plt.scatter(proj[:, 0], proj[:, 1], c=df['cluster'], cmap='coolwarm', edgecolor='k', s=60)\n",
    "plt.xlabel('PCA 1')\n",
    "plt.ylabel('PCA 2')\n",
    "plt.title('K-Means Clustering of Breast Cancer Data (n=2)')\n",
    "plt.show()\n"
   ]
  },
  {
   "cell_type": "code",
   "execution_count": null,
   "id": "202754e0",
   "metadata": {},
   "outputs": [],
   "source": [
    "\n",
    "# Get user input for breast cancer features\n",
    "print(\"Enter the cancer measurement values:\")\n",
    "user_data = []\n",
    "for feature in cancer.feature_names:\n",
    "    val = float(input(f\"{feature}: \"))\n",
    "    user_data.append(val)\n",
    "\n",
    "# Prepare input for prediction\n",
    "user_data_scaled = scaler.transform([user_data])\n",
    "\n",
    "# Predict cluster\n",
    "cluster = kmeans.predict(user_data_scaled)[0]\n",
    "\n",
    "print(f\"The predicted cluster for the given cancer data is: {cluster}\")\n"
   ]
  },
  {
   "cell_type": "code",
   "execution_count": null,
   "id": "99d6b8f0",
   "metadata": {},
   "outputs": [],
   "source": [
    "\n",
    "import numpy as np\n",
    "\n",
    "# Reload full dataset\n",
    "cancer = load_breast_cancer(as_frame=True)\n",
    "df_full = cancer.frame.copy()\n",
    "X = df_full.drop(columns=['target'])\n",
    "y = df_full['target']\n",
    "\n",
    "# Class counts\n",
    "class_counts = np.bincount(y)\n",
    "class_names = cancer.target_names\n",
    "\n",
    "# Bar plot\n",
    "plt.figure(figsize=(6, 4))\n",
    "plt.bar(class_names, class_counts, color='skyblue', edgecolor='black')\n",
    "plt.xlabel(\"Cancer Type\")\n",
    "plt.ylabel(\"Count\")\n",
    "plt.title(\"Breast Cancer Dataset Class Distribution\")\n",
    "plt.show()\n",
    "\n",
    "# PCA scatter by actual labels\n",
    "proj_actual = pca.fit_transform(X)\n",
    "plt.figure(figsize=(8, 6))\n",
    "for label in range(len(class_names)):\n",
    "    plt.scatter(\n",
    "        proj_actual[y == label, 0],\n",
    "        proj_actual[y == label, 1],\n",
    "        label=class_names[label],\n",
    "        s=50,\n",
    "        edgecolor='k'\n",
    "    )\n",
    "plt.xlabel('PCA 1')\n",
    "plt.ylabel('PCA 2')\n",
    "plt.title('Breast Cancer Dataset PCA Scatter by Actual Label')\n",
    "plt.legend()\n",
    "plt.show()\n"
   ]
  }
 ],
 "metadata": {},
 "nbformat": 4,
 "nbformat_minor": 5
}
