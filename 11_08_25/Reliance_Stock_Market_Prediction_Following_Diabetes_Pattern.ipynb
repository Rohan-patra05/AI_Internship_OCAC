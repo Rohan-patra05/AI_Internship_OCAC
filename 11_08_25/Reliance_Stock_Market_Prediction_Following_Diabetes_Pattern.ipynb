{
 "cells": [
  {
   "cell_type": "markdown",
   "id": "cf7a16e3",
   "metadata": {},
   "source": [
    "# 📈 Reliance Stock Market Prediction\n",
    "\n",
    "**Notebook pattern:** Follows the step-by-step structure of `diabetes_prediction.ipynb` (imports, data load, EDA, preprocessing, training, evaluation, saving `.pkl`, loading and sample prediction).\n",
    "\n",
    "**What this notebook does:**\n",
    "- Takes **user input** for stock symbol, start date, and end date.\n",
    "- Downloads historical data from Yahoo Finance (using `yfinance`).\n",
    "- Performs EDA and feature engineering (moving averages, returns).\n",
    "- Trains a regression model to predict the **next day's Close** price.\n",
    "- Saves the trained model and scaler as `.pkl` files and demonstrates loading them.\n",
    "\n",
    "**Notes:**\n",
    "- Run this notebook in an environment with internet access (e.g., local Jupyter, Colab) for `yfinance` to fetch data.\n",
    "- If running in Google Colab, the download cell will trigger browser downloads.\n"
   ]
  },
  {
   "cell_type": "markdown",
   "id": "d11b3d81-5942-49a5-88ca-ef999d23c3f2",
   "metadata": {},
   "source": [
    "## 1) Import libraries"
   ]
  },
  {
   "cell_type": "code",
   "execution_count": 6,
   "id": "2b5ef34a",
   "metadata": {},
   "outputs": [],
   "source": [
    "import pandas as pd\n",
    "import numpy as np\n",
    "import matplotlib.pyplot as plt\n",
    "import seaborn as sns\n",
    "from datetime import datetime\n",
    "from sklearn.model_selection import train_test_split\n",
    "from sklearn.preprocessing import StandardScaler\n",
    "from sklearn.ensemble import RandomForestRegressor\n",
    "from sklearn.metrics import mean_squared_error, r2_score\n",
    "import joblib\n",
    "\n",
    "# optional: yfinance for fetching stock data\n",
    "try:\n",
    "    import yfinance as yf\n",
    "except Exception as e:\n",
    "    print('yfinance not available. Install with `pip install yfinance` if you want to fetch data from Yahoo Finance.')\n",
    "\n",
    "# display settings\n",
    "pd.set_option('display.max_columns', 50)\n",
    "plt.rcParams['figure.figsize'] = (12,6)\n"
   ]
  },
  {
   "cell_type": "code",
   "execution_count": 7,
   "id": "fce16c40",
   "metadata": {},
   "outputs": [
    {
     "name": "stdout",
     "output_type": "stream",
     "text": [
      "Enter the stock symbol and date range (YYYY-MM-DD). Example for Reliance on NSE: RELIANCE.NS\n"
     ]
    },
    {
     "name": "stdin",
     "output_type": "stream",
     "text": [
      "Stock symbol (e.g., RELIANCE.NS):  RELIANCE.NS\n",
      "Start date (YYYY-MM-DD):  2025-08-01\n",
      "End date (YYYY-MM-DD):  2025-08-12\n"
     ]
    },
    {
     "name": "stdout",
     "output_type": "stream",
     "text": [
      "Using: RELIANCE.NS from 2025-08-01 to 2025-08-12\n"
     ]
    }
   ],
   "source": [
    "# 2) User inputs: stock symbol and date range\n",
    "print('Enter the stock symbol and date range (YYYY-MM-DD). Example for Reliance on NSE: RELIANCE.NS')\n",
    "\n",
    "stock_symbol = input('Stock symbol (e.g., RELIANCE.NS): ').strip()\n",
    "start_date = input('Start date (YYYY-MM-DD): ').strip()\n",
    "end_date = input('End date (YYYY-MM-DD): ').strip()\n",
    "\n",
    "# Provide simple defaults if user leaves blank\n",
    "if stock_symbol == '':\n",
    "    stock_symbol = 'RELIANCE.NS'\n",
    "if start_date == '':\n",
    "    start_date = '2023-01-01'\n",
    "if end_date == '':\n",
    "    end_date = datetime.today().strftime('%Y-%m-%d')\n",
    "\n",
    "print(f\"Using: {stock_symbol} from {start_date} to {end_date}\")\n"
   ]
  },
  {
   "cell_type": "code",
   "execution_count": 8,
   "id": "6702af30",
   "metadata": {},
   "outputs": [
    {
     "name": "stderr",
     "output_type": "stream",
     "text": [
      "[*********************100%***********************]  1 of 1 completed\n"
     ]
    },
    {
     "data": {
      "text/html": [
       "<div>\n",
       "<style scoped>\n",
       "    .dataframe tbody tr th:only-of-type {\n",
       "        vertical-align: middle;\n",
       "    }\n",
       "\n",
       "    .dataframe tbody tr th {\n",
       "        vertical-align: top;\n",
       "    }\n",
       "\n",
       "    .dataframe thead tr th {\n",
       "        text-align: left;\n",
       "    }\n",
       "</style>\n",
       "<table border=\"1\" class=\"dataframe\">\n",
       "  <thead>\n",
       "    <tr>\n",
       "      <th>Price</th>\n",
       "      <th>Date</th>\n",
       "      <th>Close</th>\n",
       "      <th>High</th>\n",
       "      <th>Low</th>\n",
       "      <th>Open</th>\n",
       "      <th>Volume</th>\n",
       "    </tr>\n",
       "    <tr>\n",
       "      <th>Ticker</th>\n",
       "      <th></th>\n",
       "      <th>RELIANCE.NS</th>\n",
       "      <th>RELIANCE.NS</th>\n",
       "      <th>RELIANCE.NS</th>\n",
       "      <th>RELIANCE.NS</th>\n",
       "      <th>RELIANCE.NS</th>\n",
       "    </tr>\n",
       "  </thead>\n",
       "  <tbody>\n",
       "    <tr>\n",
       "      <th>0</th>\n",
       "      <td>2025-08-01</td>\n",
       "      <td>1393.699951</td>\n",
       "      <td>1405.900024</td>\n",
       "      <td>1384.300049</td>\n",
       "      <td>1386.900024</td>\n",
       "      <td>10321171</td>\n",
       "    </tr>\n",
       "    <tr>\n",
       "      <th>1</th>\n",
       "      <td>2025-08-04</td>\n",
       "      <td>1411.500000</td>\n",
       "      <td>1416.099976</td>\n",
       "      <td>1391.699951</td>\n",
       "      <td>1395.099976</td>\n",
       "      <td>6312820</td>\n",
       "    </tr>\n",
       "    <tr>\n",
       "      <th>2</th>\n",
       "      <td>2025-08-05</td>\n",
       "      <td>1391.699951</td>\n",
       "      <td>1411.000000</td>\n",
       "      <td>1388.099976</td>\n",
       "      <td>1411.000000</td>\n",
       "      <td>9315972</td>\n",
       "    </tr>\n",
       "    <tr>\n",
       "      <th>3</th>\n",
       "      <td>2025-08-06</td>\n",
       "      <td>1392.800049</td>\n",
       "      <td>1395.900024</td>\n",
       "      <td>1383.300049</td>\n",
       "      <td>1391.900024</td>\n",
       "      <td>5834312</td>\n",
       "    </tr>\n",
       "    <tr>\n",
       "      <th>4</th>\n",
       "      <td>2025-08-07</td>\n",
       "      <td>1389.400024</td>\n",
       "      <td>1393.699951</td>\n",
       "      <td>1366.000000</td>\n",
       "      <td>1387.699951</td>\n",
       "      <td>9976705</td>\n",
       "    </tr>\n",
       "  </tbody>\n",
       "</table>\n",
       "</div>"
      ],
      "text/plain": [
       "Price        Date        Close         High          Low         Open  \\\n",
       "Ticker             RELIANCE.NS  RELIANCE.NS  RELIANCE.NS  RELIANCE.NS   \n",
       "0      2025-08-01  1393.699951  1405.900024  1384.300049  1386.900024   \n",
       "1      2025-08-04  1411.500000  1416.099976  1391.699951  1395.099976   \n",
       "2      2025-08-05  1391.699951  1411.000000  1388.099976  1411.000000   \n",
       "3      2025-08-06  1392.800049  1395.900024  1383.300049  1391.900024   \n",
       "4      2025-08-07  1389.400024  1393.699951  1366.000000  1387.699951   \n",
       "\n",
       "Price       Volume  \n",
       "Ticker RELIANCE.NS  \n",
       "0         10321171  \n",
       "1          6312820  \n",
       "2          9315972  \n",
       "3          5834312  \n",
       "4          9976705  "
      ]
     },
     "metadata": {},
     "output_type": "display_data"
    },
    {
     "name": "stdout",
     "output_type": "stream",
     "text": [
      "\n",
      "Downloaded rows: 7\n"
     ]
    }
   ],
   "source": [
    "# 3) Fetch historical stock data from Yahoo Finance\n",
    "try:\n",
    "    df = yf.download(stock_symbol, start=start_date, end=end_date)\n",
    "    if df.empty:\n",
    "        raise ValueError('Downloaded DataFrame is empty. Check symbol/date range or your internet connection.')\n",
    "    df.reset_index(inplace=True)\n",
    "    display(df.head())\n",
    "    print('\\nDownloaded rows:', len(df))\n",
    "except Exception as e:\n",
    "    print('Error fetching data with yfinance:', e)\n",
    "    print('\\nIf you already have a CSV, you can load it instead by setting `df = pd.read_csv(\"your_file.csv\")`')\n",
    "    df = pd.DataFrame()\n"
   ]
  },
  {
   "cell_type": "code",
   "execution_count": 9,
   "id": "93ebf8bd",
   "metadata": {},
   "outputs": [
    {
     "name": "stdout",
     "output_type": "stream",
     "text": [
      "<class 'pandas.core.frame.DataFrame'>\n",
      "RangeIndex: 7 entries, 0 to 6\n",
      "Data columns (total 6 columns):\n",
      " #   Column                 Non-Null Count  Dtype         \n",
      "---  ------                 --------------  -----         \n",
      " 0   (Date, )               7 non-null      datetime64[ns]\n",
      " 1   (Close, RELIANCE.NS)   7 non-null      float64       \n",
      " 2   (High, RELIANCE.NS)    7 non-null      float64       \n",
      " 3   (Low, RELIANCE.NS)     7 non-null      float64       \n",
      " 4   (Open, RELIANCE.NS)    7 non-null      float64       \n",
      " 5   (Volume, RELIANCE.NS)  7 non-null      int64         \n",
      "dtypes: datetime64[ns](1), float64(4), int64(1)\n",
      "memory usage: 468.0 bytes\n"
     ]
    },
    {
     "data": {
      "text/plain": [
       "None"
      ]
     },
     "metadata": {},
     "output_type": "display_data"
    },
    {
     "data": {
      "text/html": [
       "<div>\n",
       "<style scoped>\n",
       "    .dataframe tbody tr th:only-of-type {\n",
       "        vertical-align: middle;\n",
       "    }\n",
       "\n",
       "    .dataframe tbody tr th {\n",
       "        vertical-align: top;\n",
       "    }\n",
       "\n",
       "    .dataframe thead tr th {\n",
       "        text-align: left;\n",
       "    }\n",
       "</style>\n",
       "<table border=\"1\" class=\"dataframe\">\n",
       "  <thead>\n",
       "    <tr>\n",
       "      <th>Price</th>\n",
       "      <th>Date</th>\n",
       "      <th>Close</th>\n",
       "      <th>High</th>\n",
       "      <th>Low</th>\n",
       "      <th>Open</th>\n",
       "      <th>Volume</th>\n",
       "    </tr>\n",
       "    <tr>\n",
       "      <th>Ticker</th>\n",
       "      <th></th>\n",
       "      <th>RELIANCE.NS</th>\n",
       "      <th>RELIANCE.NS</th>\n",
       "      <th>RELIANCE.NS</th>\n",
       "      <th>RELIANCE.NS</th>\n",
       "      <th>RELIANCE.NS</th>\n",
       "    </tr>\n",
       "  </thead>\n",
       "  <tbody>\n",
       "    <tr>\n",
       "      <th>count</th>\n",
       "      <td>7</td>\n",
       "      <td>7.000000</td>\n",
       "      <td>7.000000</td>\n",
       "      <td>7.000000</td>\n",
       "      <td>7.000000</td>\n",
       "      <td>7.000000e+00</td>\n",
       "    </tr>\n",
       "    <tr>\n",
       "      <th>mean</th>\n",
       "      <td>2025-08-06 00:00:00</td>\n",
       "      <td>1390.442854</td>\n",
       "      <td>1401.114275</td>\n",
       "      <td>1377.085711</td>\n",
       "      <td>1389.657139</td>\n",
       "      <td>8.650296e+06</td>\n",
       "    </tr>\n",
       "    <tr>\n",
       "      <th>min</th>\n",
       "      <td>2025-08-01 00:00:00</td>\n",
       "      <td>1367.800049</td>\n",
       "      <td>1388.000000</td>\n",
       "      <td>1361.199951</td>\n",
       "      <td>1370.000000</td>\n",
       "      <td>5.834312e+06</td>\n",
       "    </tr>\n",
       "    <tr>\n",
       "      <th>25%</th>\n",
       "      <td>2025-08-04 12:00:00</td>\n",
       "      <td>1387.799988</td>\n",
       "      <td>1394.799988</td>\n",
       "      <td>1365.500000</td>\n",
       "      <td>1385.950012</td>\n",
       "      <td>7.553213e+06</td>\n",
       "    </tr>\n",
       "    <tr>\n",
       "      <th>50%</th>\n",
       "      <td>2025-08-06 00:00:00</td>\n",
       "      <td>1391.699951</td>\n",
       "      <td>1397.199951</td>\n",
       "      <td>1383.300049</td>\n",
       "      <td>1387.699951</td>\n",
       "      <td>9.315972e+06</td>\n",
       "    </tr>\n",
       "    <tr>\n",
       "      <th>75%</th>\n",
       "      <td>2025-08-07 12:00:00</td>\n",
       "      <td>1393.250000</td>\n",
       "      <td>1408.450012</td>\n",
       "      <td>1386.200012</td>\n",
       "      <td>1393.500000</td>\n",
       "      <td>9.987096e+06</td>\n",
       "    </tr>\n",
       "    <tr>\n",
       "      <th>max</th>\n",
       "      <td>2025-08-11 00:00:00</td>\n",
       "      <td>1411.500000</td>\n",
       "      <td>1416.099976</td>\n",
       "      <td>1391.699951</td>\n",
       "      <td>1411.000000</td>\n",
       "      <td>1.032117e+07</td>\n",
       "    </tr>\n",
       "    <tr>\n",
       "      <th>std</th>\n",
       "      <td>NaN</td>\n",
       "      <td>12.864260</td>\n",
       "      <td>10.121503</td>\n",
       "      <td>12.562308</td>\n",
       "      <td>12.313252</td>\n",
       "      <td>1.835907e+06</td>\n",
       "    </tr>\n",
       "  </tbody>\n",
       "</table>\n",
       "</div>"
      ],
      "text/plain": [
       "Price                  Date        Close         High          Low  \\\n",
       "Ticker                       RELIANCE.NS  RELIANCE.NS  RELIANCE.NS   \n",
       "count                     7     7.000000     7.000000     7.000000   \n",
       "mean    2025-08-06 00:00:00  1390.442854  1401.114275  1377.085711   \n",
       "min     2025-08-01 00:00:00  1367.800049  1388.000000  1361.199951   \n",
       "25%     2025-08-04 12:00:00  1387.799988  1394.799988  1365.500000   \n",
       "50%     2025-08-06 00:00:00  1391.699951  1397.199951  1383.300049   \n",
       "75%     2025-08-07 12:00:00  1393.250000  1408.450012  1386.200012   \n",
       "max     2025-08-11 00:00:00  1411.500000  1416.099976  1391.699951   \n",
       "std                     NaN    12.864260    10.121503    12.562308   \n",
       "\n",
       "Price          Open        Volume  \n",
       "Ticker  RELIANCE.NS   RELIANCE.NS  \n",
       "count      7.000000  7.000000e+00  \n",
       "mean    1389.657139  8.650296e+06  \n",
       "min     1370.000000  5.834312e+06  \n",
       "25%     1385.950012  7.553213e+06  \n",
       "50%     1387.699951  9.315972e+06  \n",
       "75%     1393.500000  9.987096e+06  \n",
       "max     1411.000000  1.032117e+07  \n",
       "std       12.313252  1.835907e+06  "
      ]
     },
     "metadata": {},
     "output_type": "display_data"
    },
    {
     "name": "stdout",
     "output_type": "stream",
     "text": [
      "\n",
      "Missing values per column:\n"
     ]
    },
    {
     "data": {
      "text/plain": [
       "Price   Ticker     \n",
       "Date                   0\n",
       "Close   RELIANCE.NS    0\n",
       "High    RELIANCE.NS    0\n",
       "Low     RELIANCE.NS    0\n",
       "Open    RELIANCE.NS    0\n",
       "Volume  RELIANCE.NS    0\n",
       "dtype: int64"
      ]
     },
     "metadata": {},
     "output_type": "display_data"
    }
   ],
   "source": [
    "# 4) Basic EDA: info, describe, missing values\n",
    "if not df.empty:\n",
    "    display(df.info())\n",
    "    display(df.describe())\n",
    "    print('\\nMissing values per column:')\n",
    "    display(df.isnull().sum())\n",
    "else:\n",
    "    print('No dataframe available for EDA.')\n"
   ]
  },
  {
   "cell_type": "code",
   "execution_count": 10,
   "id": "20c611d8",
   "metadata": {},
   "outputs": [
    {
     "data": {
      "image/png": "[encoded data removed]",
      "text/plain": [
       "<Figure size 1400x600 with 1 Axes>"
      ]
     },
     "metadata": {},
     "output_type": "display_data"
    }
   ],
   "source": [
    "# 5) Plot Close price and moving averages\n",
    "if not df.empty:\n",
    "    df['MA7'] = df['Close'].rolling(window=7).mean()\n",
    "    df['MA21'] = df['Close'].rolling(window=21).mean()\n",
    "    df['Daily_Return'] = df['Close'].pct_change()\n",
    "\n",
    "    plt.figure(figsize=(14,6))\n",
    "    plt.plot(df['Date'], df['Close'], label='Close')\n",
    "    plt.plot(df['Date'], df['MA7'], label='MA 7')\n",
    "    plt.plot(df['Date'], df['MA21'], label='MA 21')\n",
    "    plt.title(f'{stock_symbol} Close Price and Moving Averages')\n",
    "    plt.xlabel('Date')\n",
    "    plt.ylabel('Price')\n",
    "    plt.legend()\n",
    "    plt.show()\n",
    "else:\n",
    "    print('No dataframe available to plot.')\n"
   ]
  },
  {
   "cell_type": "code",
   "execution_count": 11,
   "id": "b758e194",
   "metadata": {},
   "outputs": [
    {
     "name": "stdout",
     "output_type": "stream",
     "text": [
      "Feature matrix shape: (0, 7)\n",
      "Target vector shape: (0,)\n"
     ]
    }
   ],
   "source": [
    "# 6) Feature engineering: create features and the target (next day's Close)\n",
    "if not df.empty:\n",
    "    # Create moving averages and returns (again, to be safe)\n",
    "    df['MA7'] = df['Close'].rolling(window=7).mean()\n",
    "    df['MA21'] = df['Close'].rolling(window=21).mean()\n",
    "    df['Daily_Return'] = df['Close'].pct_change()\n",
    "\n",
    "    # Shift Close to create target (predict next day's Close)\n",
    "    df['Target'] = df['Close'].shift(-1)\n",
    "\n",
    "    # Drop rows with NaN produced by rolling/shift\n",
    "    df_features = df.dropna().copy()\n",
    "\n",
    "    # Choose features used for prediction\n",
    "    feature_cols = ['Open', 'High', 'Low', 'Volume', 'MA7', 'MA21', 'Daily_Return']\n",
    "    X = df_features[feature_cols]\n",
    "    y = df_features['Target']\n",
    "\n",
    "    print('Feature matrix shape:', X.shape)\n",
    "    print('Target vector shape:', y.shape)\n",
    "else:\n",
    "    print('No dataframe available for feature engineering.')\n"
   ]
  },
  {
   "cell_type": "code",
   "execution_count": 12,
   "id": "d90c7880",
   "metadata": {},
   "outputs": [
    {
     "ename": "ValueError",
     "evalue": "With n_samples=0, test_size=0.2 and train_size=None, the resulting train set will be empty. Adjust any of the aforementioned parameters.",
     "output_type": "error",
     "traceback": [
      "\u001b[1;31m---------------------------------------------------------------------------\u001b[0m",
      "\u001b[1;31mValueError\u001b[0m                                Traceback (most recent call last)",
      "Cell \u001b[1;32mIn[12], line 3\u001b[0m\n\u001b[0;32m      1\u001b[0m \u001b[38;5;66;03m# 7) Train-test split and scaling\u001b[39;00m\n\u001b[0;32m      2\u001b[0m \u001b[38;5;28;01mif\u001b[39;00m \u001b[38;5;129;01mnot\u001b[39;00m df\u001b[38;5;241m.\u001b[39mempty:\n\u001b[1;32m----> 3\u001b[0m     X_train, X_test, y_train, y_test \u001b[38;5;241m=\u001b[39m train_test_split(X, y, test_size\u001b[38;5;241m=\u001b[39m\u001b[38;5;241m0.2\u001b[39m, random_state\u001b[38;5;241m=\u001b[39m\u001b[38;5;241m42\u001b[39m, shuffle\u001b[38;5;241m=\u001b[39m\u001b[38;5;28;01mFalse\u001b[39;00m)\n\u001b[0;32m      5\u001b[0m     scaler \u001b[38;5;241m=\u001b[39m StandardScaler()\n\u001b[0;32m      6\u001b[0m     X_train_scaled \u001b[38;5;241m=\u001b[39m scaler\u001b[38;5;241m.\u001b[39mfit_transform(X_train)\n",
      "File \u001b[1;32m~\\anaconda3\\Lib\\site-packages\\sklearn\\utils\\_param_validation.py:216\u001b[0m, in \u001b[0;36mvalidate_params.<locals>.decorator.<locals>.wrapper\u001b[1;34m(*args, **kwargs)\u001b[0m\n\u001b[0;32m    210\u001b[0m \u001b[38;5;28;01mtry\u001b[39;00m:\n\u001b[0;32m    211\u001b[0m     \u001b[38;5;28;01mwith\u001b[39;00m config_context(\n\u001b[0;32m    212\u001b[0m         skip_parameter_validation\u001b[38;5;241m=\u001b[39m(\n\u001b[0;32m    213\u001b[0m             prefer_skip_nested_validation \u001b[38;5;129;01mor\u001b[39;00m global_skip_validation\n\u001b[0;32m    214\u001b[0m         )\n\u001b[0;32m    215\u001b[0m     ):\n\u001b[1;32m--> 216\u001b[0m         \u001b[38;5;28;01mreturn\u001b[39;00m func(\u001b[38;5;241m*\u001b[39margs, \u001b[38;5;241m*\u001b[39m\u001b[38;5;241m*\u001b[39mkwargs)\n\u001b[0;32m    217\u001b[0m \u001b[38;5;28;01mexcept\u001b[39;00m InvalidParameterError \u001b[38;5;28;01mas\u001b[39;00m e:\n\u001b[0;32m    218\u001b[0m     \u001b[38;5;66;03m# When the function is just a wrapper around an estimator, we allow\u001b[39;00m\n\u001b[0;32m    219\u001b[0m     \u001b[38;5;66;03m# the function to delegate validation to the estimator, but we replace\u001b[39;00m\n\u001b[0;32m    220\u001b[0m     \u001b[38;5;66;03m# the name of the estimator by the name of the function in the error\u001b[39;00m\n\u001b[0;32m    221\u001b[0m     \u001b[38;5;66;03m# message to avoid confusion.\u001b[39;00m\n\u001b[0;32m    222\u001b[0m     msg \u001b[38;5;241m=\u001b[39m re\u001b[38;5;241m.\u001b[39msub(\n\u001b[0;32m    223\u001b[0m         \u001b[38;5;124mr\u001b[39m\u001b[38;5;124m\"\u001b[39m\u001b[38;5;124mparameter of \u001b[39m\u001b[38;5;124m\\\u001b[39m\u001b[38;5;124mw+ must be\u001b[39m\u001b[38;5;124m\"\u001b[39m,\n\u001b[0;32m    224\u001b[0m         \u001b[38;5;124mf\u001b[39m\u001b[38;5;124m\"\u001b[39m\u001b[38;5;124mparameter of \u001b[39m\u001b[38;5;132;01m{\u001b[39;00mfunc\u001b[38;5;241m.\u001b[39m\u001b[38;5;18m__qualname__\u001b[39m\u001b[38;5;132;01m}\u001b[39;00m\u001b[38;5;124m must be\u001b[39m\u001b[38;5;124m\"\u001b[39m,\n\u001b[0;32m    225\u001b[0m         \u001b[38;5;28mstr\u001b[39m(e),\n\u001b[0;32m    226\u001b[0m     )\n",
      "File \u001b[1;32m~\\anaconda3\\Lib\\site-packages\\sklearn\\model_selection\\_split.py:2851\u001b[0m, in \u001b[0;36mtrain_test_split\u001b[1;34m(test_size, train_size, random_state, shuffle, stratify, *arrays)\u001b[0m\n\u001b[0;32m   2848\u001b[0m arrays \u001b[38;5;241m=\u001b[39m indexable(\u001b[38;5;241m*\u001b[39marrays)\n\u001b[0;32m   2850\u001b[0m n_samples \u001b[38;5;241m=\u001b[39m _num_samples(arrays[\u001b[38;5;241m0\u001b[39m])\n\u001b[1;32m-> 2851\u001b[0m n_train, n_test \u001b[38;5;241m=\u001b[39m _validate_shuffle_split(\n\u001b[0;32m   2852\u001b[0m     n_samples, test_size, train_size, default_test_size\u001b[38;5;241m=\u001b[39m\u001b[38;5;241m0.25\u001b[39m\n\u001b[0;32m   2853\u001b[0m )\n\u001b[0;32m   2855\u001b[0m \u001b[38;5;28;01mif\u001b[39;00m shuffle \u001b[38;5;129;01mis\u001b[39;00m \u001b[38;5;28;01mFalse\u001b[39;00m:\n\u001b[0;32m   2856\u001b[0m     \u001b[38;5;28;01mif\u001b[39;00m stratify \u001b[38;5;129;01mis\u001b[39;00m \u001b[38;5;129;01mnot\u001b[39;00m \u001b[38;5;28;01mNone\u001b[39;00m:\n",
      "File \u001b[1;32m~\\anaconda3\\Lib\\site-packages\\sklearn\\model_selection\\_split.py:2481\u001b[0m, in \u001b[0;36m_validate_shuffle_split\u001b[1;34m(n_samples, test_size, train_size, default_test_size)\u001b[0m\n\u001b[0;32m   2478\u001b[0m n_train, n_test \u001b[38;5;241m=\u001b[39m \u001b[38;5;28mint\u001b[39m(n_train), \u001b[38;5;28mint\u001b[39m(n_test)\n\u001b[0;32m   2480\u001b[0m \u001b[38;5;28;01mif\u001b[39;00m n_train \u001b[38;5;241m==\u001b[39m \u001b[38;5;241m0\u001b[39m:\n\u001b[1;32m-> 2481\u001b[0m     \u001b[38;5;28;01mraise\u001b[39;00m \u001b[38;5;167;01mValueError\u001b[39;00m(\n\u001b[0;32m   2482\u001b[0m         \u001b[38;5;124m\"\u001b[39m\u001b[38;5;124mWith n_samples=\u001b[39m\u001b[38;5;132;01m{}\u001b[39;00m\u001b[38;5;124m, test_size=\u001b[39m\u001b[38;5;132;01m{}\u001b[39;00m\u001b[38;5;124m and train_size=\u001b[39m\u001b[38;5;132;01m{}\u001b[39;00m\u001b[38;5;124m, the \u001b[39m\u001b[38;5;124m\"\u001b[39m\n\u001b[0;32m   2483\u001b[0m         \u001b[38;5;124m\"\u001b[39m\u001b[38;5;124mresulting train set will be empty. Adjust any of the \u001b[39m\u001b[38;5;124m\"\u001b[39m\n\u001b[0;32m   2484\u001b[0m         \u001b[38;5;124m\"\u001b[39m\u001b[38;5;124maforementioned parameters.\u001b[39m\u001b[38;5;124m\"\u001b[39m\u001b[38;5;241m.\u001b[39mformat(n_samples, test_size, train_size)\n\u001b[0;32m   2485\u001b[0m     )\n\u001b[0;32m   2487\u001b[0m \u001b[38;5;28;01mreturn\u001b[39;00m n_train, n_test\n",
      "\u001b[1;31mValueError\u001b[0m: With n_samples=0, test_size=0.2 and train_size=None, the resulting train set will be empty. Adjust any of the aforementioned parameters."
     ]
    }
   ],
   "source": [
    "# 7) Train-test split and scaling\n",
    "if not df.empty:\n",
    "    X_train, X_test, y_train, y_test = train_test_split(X, y, test_size=0.2, random_state=42, shuffle=False)\n",
    "\n",
    "    scaler = StandardScaler()\n",
    "    X_train_scaled = scaler.fit_transform(X_train)\n",
    "    X_test_scaled = scaler.transform(X_test)\n",
    "\n",
    "    print('X_train_scaled shape:', X_train_scaled.shape)\n",
    "else:\n",
    "    print('No data to train on.')\n"
   ]
  },
  {
   "cell_type": "code",
   "execution_count": 13,
   "id": "49d49028",
   "metadata": {},
   "outputs": [
    {
     "ename": "NameError",
     "evalue": "name 'X_train_scaled' is not defined",
     "output_type": "error",
     "traceback": [
      "\u001b[1;31m---------------------------------------------------------------------------\u001b[0m",
      "\u001b[1;31mNameError\u001b[0m                                 Traceback (most recent call last)",
      "Cell \u001b[1;32mIn[13], line 4\u001b[0m\n\u001b[0;32m      2\u001b[0m \u001b[38;5;28;01mif\u001b[39;00m \u001b[38;5;129;01mnot\u001b[39;00m df\u001b[38;5;241m.\u001b[39mempty:\n\u001b[0;32m      3\u001b[0m     model \u001b[38;5;241m=\u001b[39m RandomForestRegressor(n_estimators\u001b[38;5;241m=\u001b[39m\u001b[38;5;241m100\u001b[39m, random_state\u001b[38;5;241m=\u001b[39m\u001b[38;5;241m42\u001b[39m)\n\u001b[1;32m----> 4\u001b[0m     model\u001b[38;5;241m.\u001b[39mfit(X_train_scaled, y_train)\n\u001b[0;32m      5\u001b[0m     \u001b[38;5;28mprint\u001b[39m(\u001b[38;5;124m'\u001b[39m\u001b[38;5;124mModel training completed.\u001b[39m\u001b[38;5;124m'\u001b[39m)\n\u001b[0;32m      6\u001b[0m \u001b[38;5;28;01melse\u001b[39;00m:\n",
      "\u001b[1;31mNameError\u001b[0m: name 'X_train_scaled' is not defined"
     ]
    }
   ],
   "source": [
    "# 8) Train the model (Random Forest Regressor)\n",
    "if not df.empty:\n",
    "    model = RandomForestRegressor(n_estimators=100, random_state=42)\n",
    "    model.fit(X_train_scaled, y_train)\n",
    "    print('Model training completed.')\n",
    "else:\n",
    "    print('No data to train model.')\n"
   ]
  },
  {
   "cell_type": "code",
   "execution_count": null,
   "id": "808e305a",
   "metadata": {},
   "outputs": [],
   "source": [
    "# 9) Evaluate model on test set\n",
    "if not df.empty:\n",
    "    y_pred = model.predict(X_test_scaled)\n",
    "    mse = mean_squared_error(y_test, y_pred)\n",
    "    rmse = np.sqrt(mse)\n",
    "    r2 = r2_score(y_test, y_pred)\n",
    "\n",
    "    print(f'MSE: {mse:.4f}')\n",
    "    print(f'RMSE: {rmse:.4f}')\n",
    "    print(f'R2 Score: {r2:.4f}')\n",
    "\n",
    "    # Plot actual vs predicted\n",
    "    plt.figure(figsize=(12,6))\n",
    "    plt.plot(df_features['Date'].iloc[-len(y_test):], y_test.values, label='Actual (Next Close)')\n",
    "    plt.plot(df_features['Date'].iloc[-len(y_test):], y_pred, label='Predicted (Next Close)')\n",
    "    plt.xticks(rotation=45)\n",
    "    plt.legend()\n",
    "    plt.title('Actual vs Predicted Close Price (Test Set)')\n",
    "    plt.show()\n",
    "else:\n",
    "    print('No predictions to evaluate.')\n"
   ]
  },
  {
   "cell_type": "code",
   "execution_count": null,
   "id": "b8d13590",
   "metadata": {},
   "outputs": [],
   "source": [
    "# 10) Save trained model and scaler to .pkl files\n",
    "if not df.empty:\n",
    "    model_filename = f\"{stock_symbol.replace('.','_')}_stock_model.pkl\"\n",
    "    scaler_filename = f\"{stock_symbol.replace('.','_')}_stock_scaler.pkl\"\n",
    "    joblib.dump(model, model_filename)\n",
    "    joblib.dump(scaler, scaler_filename)\n",
    "    print('Saved model to', model_filename)\n",
    "    print('Saved scaler to', scaler_filename)\n",
    "else:\n",
    "    print('No model to save.')\n"
   ]
  },
  {
   "cell_type": "code",
   "execution_count": null,
   "id": "b3a1c068",
   "metadata": {},
   "outputs": [],
   "source": [
    "# 11) Load saved model and scaler, then make a sample prediction\n",
    "if not df.empty:\n",
    "    loaded_model = joblib.load(model_filename)\n",
    "    loaded_scaler = joblib.load(scaler_filename)\n",
    "\n",
    "    # Use the last available row's features to predict the next day's Close\n",
    "    last_features = X.iloc[[-1]]  # last row in feature matrix\n",
    "    last_scaled = loaded_scaler.transform(last_features)\n",
    "    next_close_pred = loaded_model.predict(last_scaled)[0]\n",
    "\n",
    "    print('Last available date in dataset:', df_features['Date'].iloc[-1])\n",
    "    print('Last actual Close:', df_features['Close'].iloc[-1])\n",
    "    print('Predicted next day Close (based on last row):', round(next_close_pred, 4))\n",
    "else:\n",
    "    print('No saved model to load.')\n"
   ]
  },
  {
   "cell_type": "code",
   "execution_count": null,
   "id": "293edbd1",
   "metadata": {},
   "outputs": [],
   "source": [
    "# 12) (Optional) Save the processed dataset and provide download instructions\n",
    "if not df.empty:\n",
    "    processed_csv = f\"{stock_symbol.replace('.','_')}_processed.csv\"\n",
    "    df_features.to_csv(processed_csv, index=False)\n",
    "    print('Processed dataset saved to', processed_csv)\n",
    "\n",
    "    # If running in Google Colab, trigger download\n",
    "    try:\n",
    "        from google.colab import files\n",
    "        files.download(model_filename)\n",
    "        files.download(scaler_filename)\n",
    "        files.download(processed_csv)\n",
    "    except Exception:\n",
    "        print('\\nIf you are running this locally, find the files in your working directory.')\n",
    "else:\n",
    "    print('No processed dataset to save.')\n"
   ]
  },
  {
   "cell_type": "markdown",
   "id": "72bcf339",
   "metadata": {},
   "source": [
    "---\n",
    "\n",
    "## Next steps & customization ideas\n",
    "\n",
    "- Try different models (e.g., `GradientBoostingRegressor`, `XGBoost`, `LinearRegression`) and compare results.\n",
    "- Add more features (technical indicators like RSI, MACD, Bollinger Bands).\n",
    "- Use a time-series specific approach (e.g., ARIMA, Prophet, LSTM) for potentially better sequential predictions.\n",
    "- Tune hyperparameters with `GridSearchCV` or `RandomizedSearchCV`.\n",
    "\n",
    "**This notebook follows the diabetes_prediction.ipynb step-by-step pattern:** imports, input, data load, EDA, preprocessing, train/test split, scaling, training, evaluation, saving/loading `.pkl`, and sample prediction.\n"
   ]
  }
 ],
 "metadata": {
  "kernelspec": {
   "display_name": "Python 3 (ipykernel)",
   "language": "python",
   "name": "python3"
  },
  "language_info": {
   "codemirror_mode": {
    "name": "ipython",
    "version": 3
   },
   "file_extension": ".py",
   "mimetype": "text/x-python",
   "name": "python",
   "nbconvert_exporter": "python",
   "pygments_lexer": "ipython3",
   "version": "3.13.5"
  }
 },
 "nbformat": 4,
 "nbformat_minor": 5
}
